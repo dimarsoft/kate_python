{
  "nbformat": 4,
  "nbformat_minor": 0,
  "metadata": {
    "colab": {
      "provenance": [],
      "gpuType": "T4",
      "include_colab_link": true
    },
    "kernelspec": {
      "name": "python3",
      "display_name": "Python 3"
    },
    "language_info": {
      "name": "python"
    },
    "accelerator": "GPU"
  },
  "cells": [
    {
      "cell_type": "markdown",
      "metadata": {
        "id": "view-in-github",
        "colab_type": "text"
      },
      "source": [
        "<a href=\"https://colab.research.google.com/github/dimarsoft/kate_python/blob/main/mnist_for_Kate_08_11_2023.ipynb\" target=\"_parent\"><img src=\"https://colab.research.google.com/assets/colab-badge.svg\" alt=\"Open In Colab\"/></a>"
      ]
    },
    {
      "cell_type": "markdown",
      "source": [
        "# Введение в нейронные сети\n",
        "## Задание 1"
      ],
      "metadata": {
        "id": "VoBkgRbDPGba"
      }
    },
    {
      "cell_type": "markdown",
      "source": [
        "### Импортируем все необходимые библиотеки"
      ],
      "metadata": {
        "id": "Iyz5JKNdPjM8"
      }
    },
    {
      "cell_type": "code",
      "source": [
        "import torch\n",
        "\n",
        "import numpy as np\n",
        "import matplotlib.pyplot as plt\n",
        "\n",
        "\n",
        "from torchvision import datasets, transforms\n",
        "\n",
        "from sklearn.model_selection import train_test_split\n",
        "from torch.utils.data import TensorDataset"
      ],
      "metadata": {
        "id": "cC6SURVEPZoz"
      },
      "execution_count": null,
      "outputs": []
    },
    {
      "cell_type": "markdown",
      "source": [
        "### Скачиваем датасет mnist"
      ],
      "metadata": {
        "id": "XoW8vQpEPqWF"
      }
    },
    {
      "cell_type": "code",
      "source": [
        "transform = transforms.ToTensor()\n",
        "\n",
        "mnist = datasets.MNIST(root='mnist', download=True, transform=transform)\n"
      ],
      "metadata": {
        "colab": {
          "base_uri": "https://localhost:8080/"
        },
        "id": "gharAW-jPp2N",
        "outputId": "e67a35c1-9974-4769-c85b-7639dc1a6263"
      },
      "execution_count": null,
      "outputs": [
        {
          "output_type": "stream",
          "name": "stdout",
          "text": [
            "Downloading http://yann.lecun.com/exdb/mnist/train-images-idx3-ubyte.gz\n",
            "Downloading http://yann.lecun.com/exdb/mnist/train-images-idx3-ubyte.gz to mnist/MNIST/raw/train-images-idx3-ubyte.gz\n"
          ]
        },
        {
          "output_type": "stream",
          "name": "stderr",
          "text": [
            "100%|██████████| 9912422/9912422 [00:00<00:00, 71442926.96it/s]\n"
          ]
        },
        {
          "output_type": "stream",
          "name": "stdout",
          "text": [
            "Extracting mnist/MNIST/raw/train-images-idx3-ubyte.gz to mnist/MNIST/raw\n",
            "\n",
            "Downloading http://yann.lecun.com/exdb/mnist/train-labels-idx1-ubyte.gz\n",
            "Downloading http://yann.lecun.com/exdb/mnist/train-labels-idx1-ubyte.gz to mnist/MNIST/raw/train-labels-idx1-ubyte.gz\n"
          ]
        },
        {
          "output_type": "stream",
          "name": "stderr",
          "text": [
            "100%|██████████| 28881/28881 [00:00<00:00, 121378450.73it/s]\n"
          ]
        },
        {
          "output_type": "stream",
          "name": "stdout",
          "text": [
            "Extracting mnist/MNIST/raw/train-labels-idx1-ubyte.gz to mnist/MNIST/raw\n",
            "\n",
            "Downloading http://yann.lecun.com/exdb/mnist/t10k-images-idx3-ubyte.gz\n",
            "Downloading http://yann.lecun.com/exdb/mnist/t10k-images-idx3-ubyte.gz to mnist/MNIST/raw/t10k-images-idx3-ubyte.gz\n"
          ]
        },
        {
          "output_type": "stream",
          "name": "stderr",
          "text": [
            "100%|██████████| 1648877/1648877 [00:00<00:00, 24914589.45it/s]\n"
          ]
        },
        {
          "output_type": "stream",
          "name": "stdout",
          "text": [
            "Extracting mnist/MNIST/raw/t10k-images-idx3-ubyte.gz to mnist/MNIST/raw\n",
            "\n",
            "Downloading http://yann.lecun.com/exdb/mnist/t10k-labels-idx1-ubyte.gz\n",
            "Downloading http://yann.lecun.com/exdb/mnist/t10k-labels-idx1-ubyte.gz to mnist/MNIST/raw/t10k-labels-idx1-ubyte.gz\n"
          ]
        },
        {
          "output_type": "stream",
          "name": "stderr",
          "text": [
            "100%|██████████| 4542/4542 [00:00<00:00, 19321023.09it/s]\n"
          ]
        },
        {
          "output_type": "stream",
          "name": "stdout",
          "text": [
            "Extracting mnist/MNIST/raw/t10k-labels-idx1-ubyte.gz to mnist/MNIST/raw\n",
            "\n"
          ]
        }
      ]
    },
    {
      "cell_type": "code",
      "source": [
        "# уже есть готовый X mnist.data\n",
        "X = mnist.data\n",
        "Y = mnist.targets\n",
        "\n",
        "X_train, X_test, y_train, y_test = train_test_split(X, Y)"
      ],
      "metadata": {
        "id": "t9zTWezR_wuH"
      },
      "execution_count": null,
      "outputs": []
    },
    {
      "cell_type": "code",
      "source": [
        "X_train = X_train.to(dtype=torch.float)\n",
        "y_train = y_train.to(dtype=torch.int64)\n",
        "X_test = X_test.to(dtype=torch.float)\n",
        "y_test = y_test.to(dtype=torch.int64 )"
      ],
      "metadata": {
        "id": "KDK8CNTJIn0P"
      },
      "execution_count": null,
      "outputs": []
    },
    {
      "cell_type": "code",
      "source": [
        "train_dataset = TensorDataset(X_train, y_train)\n",
        "test_dataset = TensorDataset(X_test, y_test)"
      ],
      "metadata": {
        "id": "JiuITa6b_3KE"
      },
      "execution_count": null,
      "outputs": []
    },
    {
      "cell_type": "markdown",
      "source": [
        "### Создаём model"
      ],
      "metadata": {
        "id": "cUs4_FPV5IGR"
      }
    },
    {
      "cell_type": "code",
      "source": [
        "from torch import nn\n",
        "\n",
        "\n",
        "model = nn.Sequential(\n",
        "    nn.Flatten(),\n",
        "    nn.Linear(in_features=784, out_features=128),\n",
        "    nn.ReLU(),\n",
        "    nn.Linear(in_features=128, out_features=64),\n",
        "    nn.ReLU(),\n",
        "    nn.Linear(in_features=64, out_features=10),\n",
        "    # nn.Sigmoid(),\n",
        "    #nn.Flatten(start_dim=0, end_dim=-1)\n",
        ")\n",
        "\n",
        "#nn.MSELoss"
      ],
      "metadata": {
        "id": "J1GvJzRf5IaE"
      },
      "execution_count": null,
      "outputs": []
    },
    {
      "cell_type": "markdown",
      "source": [
        "### Выводим summary модели"
      ],
      "metadata": {
        "id": "8OfFqSSY5Ixs"
      }
    },
    {
      "cell_type": "code",
      "source": [
        "model"
      ],
      "metadata": {
        "id": "f4FvSeCI5JFE",
        "colab": {
          "base_uri": "https://localhost:8080/"
        },
        "outputId": "8038888d-5753-4400-9989-fa20e984ae0b"
      },
      "execution_count": null,
      "outputs": [
        {
          "output_type": "execute_result",
          "data": {
            "text/plain": [
              "Sequential(\n",
              "  (0): Flatten(start_dim=1, end_dim=-1)\n",
              "  (1): Linear(in_features=784, out_features=128, bias=True)\n",
              "  (2): ReLU()\n",
              "  (3): Linear(in_features=128, out_features=64, bias=True)\n",
              "  (4): ReLU()\n",
              "  (5): Linear(in_features=64, out_features=10, bias=True)\n",
              ")"
            ]
          },
          "metadata": {},
          "execution_count": 7
        }
      ]
    },
    {
      "cell_type": "code",
      "source": [
        "from prettytable import PrettyTable\n",
        "def count_parameters(model):\n",
        "    table = PrettyTable([\"Modules\", \"Parameters\"])\n",
        "    total_params = 0\n",
        "    for name, parameter in model.named_parameters():\n",
        "        params = parameter.numel()\n",
        "        table.add_row([name, params])\n",
        "        total_params+=params\n",
        "    print(table)\n",
        "    print(f\"Total Trainable Params: {total_params}\")\n",
        "    return total_params"
      ],
      "metadata": {
        "id": "2-X1ePswotwQ"
      },
      "execution_count": null,
      "outputs": []
    },
    {
      "cell_type": "code",
      "source": [
        "count_parameters(model)"
      ],
      "metadata": {
        "colab": {
          "base_uri": "https://localhost:8080/"
        },
        "id": "fK2VNl4Yo4hZ",
        "outputId": "521fe3fc-3c83-44ae-bc12-45743e628b26"
      },
      "execution_count": null,
      "outputs": [
        {
          "output_type": "stream",
          "name": "stdout",
          "text": [
            "+----------+------------+\n",
            "| Modules  | Parameters |\n",
            "+----------+------------+\n",
            "| 1.weight |   100352   |\n",
            "|  1.bias  |    128     |\n",
            "| 3.weight |    8192    |\n",
            "|  3.bias  |     64     |\n",
            "| 5.weight |    640     |\n",
            "|  5.bias  |     10     |\n",
            "+----------+------------+\n",
            "Total Trainable Params: 109386\n"
          ]
        },
        {
          "output_type": "execute_result",
          "data": {
            "text/plain": [
              "109386"
            ]
          },
          "metadata": {},
          "execution_count": 19
        }
      ]
    },
    {
      "cell_type": "markdown",
      "source": [
        "### Обучаем модель"
      ],
      "metadata": {
        "id": "RFzF9qhW5JTE"
      }
    },
    {
      "cell_type": "code",
      "source": [
        "from IPython.display import clear_output\n",
        "\n",
        "def show_losses(train_loss_hist, test_loss_hist):\n",
        "    clear_output()\n",
        "\n",
        "    plt.figure(figsize=(12,4))\n",
        "\n",
        "    plt.subplot(1, 2, 1)\n",
        "    plt.title('Train Loss')\n",
        "    plt.plot(np.arange(len(train_loss_hist)), train_loss_hist)\n",
        "    plt.yscale('log')\n",
        "    plt.grid()\n",
        "\n",
        "    plt.subplot(1, 2, 2)\n",
        "    plt.title('Test Loss')\n",
        "    plt.plot(np.arange(len(test_loss_hist)), test_loss_hist)\n",
        "    plt.yscale('log')\n",
        "    plt.grid()\n",
        "\n",
        "    plt.show()"
      ],
      "metadata": {
        "id": "u31AWByY3JVL"
      },
      "execution_count": null,
      "outputs": []
    },
    {
      "cell_type": "code",
      "source": [
        "def run(model, dataloader, loss_function, optimizer=None):\n",
        "    # set the model to evaluation or training mode\n",
        "    if optimizer == None:\n",
        "        model.eval()\n",
        "    else:\n",
        "        model.train()\n",
        "\n",
        "    total_loss = 0\n",
        "\n",
        "    for X, y in dataloader:\n",
        "        # compute prediction\n",
        "        pred = model(X)\n",
        "        # compute loss\n",
        "        loss = loss_function(pred, y)\n",
        "        # save loss\n",
        "        total_loss += loss.item()\n",
        "        if optimizer != None:\n",
        "            # compute gradients\n",
        "            loss.backward()\n",
        "            # do optimizer step\n",
        "            optimizer.step()\n",
        "            # clear gradients\n",
        "            optimizer.zero_grad()\n",
        "\n",
        "    return total_loss / len(dataloader)"
      ],
      "metadata": {
        "id": "6DFWkOf43R3T"
      },
      "execution_count": null,
      "outputs": []
    },
    {
      "cell_type": "code",
      "source": [
        "from torchvision import datasets, transforms\n",
        "\n",
        "transform = transforms.ToTensor()\n",
        "\n",
        "mnist_train = datasets.MNIST(root='mnist', download=True, train=True, transform=transform)\n",
        "mnist_test = datasets.MNIST(root='mnist', download=True, train=False,  transform=transform)\n"
      ],
      "metadata": {
        "id": "CAY0a9N5GCOX"
      },
      "execution_count": null,
      "outputs": []
    },
    {
      "cell_type": "code",
      "source": [
        "from torch.utils.data import DataLoader\n",
        "\n",
        "# your code here\n",
        "loss_function = nn.CrossEntropyLoss()\n",
        "from torch import optim\n",
        "\n",
        "# your code here\n",
        "optimizer = optim.SGD(model.parameters(), lr=1e-1, momentum=0.9)\n",
        "#loss_fn = nn.CrossEntropyLoss()\n",
        "#optimizer = torch.optim.SGD(model.parameters(), lr=3e-3, momentum=0.9)\n",
        "\n",
        "BATCH_SIZE = 32\n",
        "NUM_EPOCHS = 10\n",
        "\n",
        "# your code here\n",
        "train_loader = DataLoader(train_dataset, batch_size=BATCH_SIZE)\n",
        "test_loader = DataLoader(test_dataset, batch_size=BATCH_SIZE)\n",
        "\n",
        "#train_loader = DataLoader(mnist_train, batch_size=BATCH_SIZE)\n",
        "#test_loader = DataLoader(mnist_test, batch_size=BATCH_SIZE)\n",
        "\n",
        "\n",
        "train_loss_hist = []\n",
        "test_loss_hist = []\n",
        "\n",
        "for i in range(NUM_EPOCHS):\n",
        "    train_loss = run(model, train_loader, loss_function, optimizer)\n",
        "    train_loss_hist.append(train_loss)\n",
        "    test_loss = run(model, test_loader, loss_function)\n",
        "    test_loss_hist.append(test_loss)\n",
        "\n",
        "    if i % 2 == 0:\n",
        "        show_losses(train_loss_hist, test_loss_hist)"
      ],
      "metadata": {
        "id": "Am2N7iAq5JlQ",
        "colab": {
          "base_uri": "https://localhost:8080/",
          "height": 391
        },
        "outputId": "4aadb719-6df1-44b6-cae6-64cf01d9eb11"
      },
      "execution_count": null,
      "outputs": [
        {
          "output_type": "display_data",
          "data": {
            "text/plain": [
              "<Figure size 1200x400 with 2 Axes>"
            ],
            "image/png": "[encoded data removed]"
          },
          "metadata": {}
        }
      ]
    },
    {
      "cell_type": "code",
      "source": [
        "train_loader"
      ],
      "metadata": {
        "colab": {
          "base_uri": "https://localhost:8080/"
        },
        "id": "2DOxwda2HzfX",
        "outputId": "ff5b1fbf-49f4-4b12-f094-a24508d64eb8"
      },
      "execution_count": null,
      "outputs": [
        {
          "output_type": "execute_result",
          "data": {
            "text/plain": [
              "<torch.utils.data.dataloader.DataLoader at 0x78d607c7ebc0>"
            ]
          },
          "metadata": {},
          "execution_count": 38
        }
      ]
    },
    {
      "cell_type": "markdown",
      "source": [
        "### Добавляем колбек построения графиков обучения"
      ],
      "metadata": {
        "id": "uusBoD8S5J8z"
      }
    },
    {
      "cell_type": "code",
      "source": [],
      "metadata": {
        "id": "ukR8vQ8t5KQ8"
      },
      "execution_count": null,
      "outputs": []
    },
    {
      "cell_type": "markdown",
      "source": [
        "### Выводы (сошлась ли модель по итогам обучения):"
      ],
      "metadata": {
        "id": "2UhEF-QS-Sox"
      }
    },
    {
      "cell_type": "markdown",
      "source": [],
      "metadata": {
        "id": "0t4lm7Pi-2Fh"
      }
    },
    {
      "cell_type": "markdown",
      "source": [
        "### Сравниваем несколько архитектур:"
      ],
      "metadata": {
        "id": "9HFAxU_1-S9V"
      }
    },
    {
      "cell_type": "markdown",
      "source": [
        "1)"
      ],
      "metadata": {
        "id": "ztY_mMBX-23p"
      }
    },
    {
      "cell_type": "code",
      "source": [],
      "metadata": {
        "id": "CWryUCiI-47J"
      },
      "execution_count": null,
      "outputs": []
    },
    {
      "cell_type": "markdown",
      "source": [
        "2)"
      ],
      "metadata": {
        "id": "NKROAPEN-3iu"
      }
    },
    {
      "cell_type": "code",
      "source": [],
      "metadata": {
        "id": "zdg14K67-4cG"
      },
      "execution_count": null,
      "outputs": []
    },
    {
      "cell_type": "markdown",
      "source": [
        "3)"
      ],
      "metadata": {
        "id": "fMb5dBB7-5N-"
      }
    },
    {
      "cell_type": "code",
      "source": [],
      "metadata": {
        "id": "4O45rDzF-8lm"
      },
      "execution_count": null,
      "outputs": []
    },
    {
      "cell_type": "markdown",
      "source": [
        "## Выводы:"
      ],
      "metadata": {
        "id": "xoYe2kgy_Jy5"
      }
    },
    {
      "cell_type": "markdown",
      "source": [
        "т"
      ],
      "metadata": {
        "id": "42SD8HW4_OQG"
      }
    }
  ]
}